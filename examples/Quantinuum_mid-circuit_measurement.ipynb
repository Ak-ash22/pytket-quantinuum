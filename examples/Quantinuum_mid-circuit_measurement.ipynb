{
  "cells": [
    {
      "cell_type": "markdown",
      "metadata": {
        "id": "D2-Zk1_EbnZ7"
      },
      "source": [
        "![Quantinuum_logo](data:image/png;base64,iVBORw0KGgoAAAANSUhEUgAAAIIAAABLCAMAAACLOq%2BzAAACx1BMVEUAAAAAAP%2BAgIBVqqqAgIBmmZmAgKptkpKAgJ9xjo6AgJl0i6JqgJV2iZ1tgJJ3iJlwgJ94h5ZxgJx5hpRzgJl5hp50gJdvhZt1gJVwhZl2gJ12gJtyhJV3gJlzhJx4gJd0g5txgJZ1g5lxgJx1g5hygJp2g5ZzgJl2g5tzgJh3gpp0gJdxgpl0gJtygph1gJpygpd1gJlzgpt2gJhzgpp2gJd0gplygJt0gphygJp1gpdzgJl1gptzgJh1gpp2gZl0gJtygZh0gJpzgZh1gJlzgZp1gJhzgZp1gJh0gZl0gZhygJp0gZhzgJl0gZpzgJh1gZpzgJh1gZl0gJp1gZh0gJp0gJlzgZp0gJhzgZp1gJhzgZl1gJp0gZh1gJp0gZhzgJl0gZpzgJlzgJh1gZlzgJp1gZl1gZh0gJl0gJlzgZl0gJhzgZl1gJp0gZl1gJl0gZh1gJl0gZpzgJl0gZlzgJh0gZlzgJp0gZl0gJl1gJh1gJpzgJl0gJhzgJl0gJpzgJl0gJl1gJl0gJp1gJl0gJl1gJhzgJp0gJlzgJl0gJh0gJl1gJp0gJl1gJl0gJh1gJl0gJpzgJl0gJlzgJh0gJl0gJp0gJl0gJl1gJh0gJl1gJp0gJlzgJl0gJh0gJl0gJp0gJl0gJl0gJh1gJl0gJpzgJh0gJl0gJl0gJl1gJp0gJl1gJl0gJhzgJl0gJl0gJl0gJh0gJl0gJp0gJl0gJl1gJh0gJlzgJp0gJl0gJl0gJl0gJl0gJl0gJl0gJl0gJl1gJl0gJlzgJl0gJl0gJl0gJl0gJl0gJl0gJl0gJl1gJl0gJlzgJl0gJl0gJl0gJl0gJl0gJl0gJl0gJl0gJl1gJl0gJl0gJl0gJl0gJl0gJl0gJl0gJl0gJl0gJl0gJl0gJl0gJl0gJl0gJl0gJl0gJl0gJl0gJl0gJl0gJl0gJn%2F%2F%2F%2Bc0JCdAAAA63RSTlMAAQIDBAUGBwgJCgsMDQ4PEBESExQVFhcYGRocHR4fICEiIyQlJicoKSorLC0uLzAxMjM0NTY3ODk6Ozw9Pj9BQkNERUZHSElKS01OT1BRUlNUVVZXWFpbXF1eX2BhYmNkZWZoaWprbW5wcXJzdHV2d3h5ent8fX5%2FgIGDhYaHiImKjI2Oj5CSk5SVlpeYmZqbnJ2en6ChoqOkpaanqKmqq6ytrq%2Bws7a3ubq7vL2%2BwMHCw8TFxsfIycrLzM3Oz9DR0tPU1dbY2drb3N3e3%2BDh4uPk5ebn6Orr7O3u7%2FHy8%2FT19vf4%2Bfr7%2FP3%2B7Jw5zgAAAAFiS0dE7CG5sxsAAAVfSURBVBgZ7cGNV9X1AcfxNxcwnhRRaVCsKGszI%2BbDcs3KlDKldAmhGywz0ZyJOqLUHrBraVoKJD5E%2BBDaarXS2tZ0jmkqKjlLKR9SA6EFCNzPP7Hv7%2F7QmMm9nM754jkdXi9%2BsNCxL7x9uLb266qKZx%2BI5Ar4yYsn9J2GNyd46F6e%2BfW6RFWmh2404ANdxq6f022uOajL%2BvYPIXSPyN3qTFkY1vUBytW5tyOwLHE%2BjFMg73iwKqpyCCEHFFAhVpXsgfEKzJeBRWO1CDYpiK%2FisCbsU91N%2BDkFU4Q1WVIkqWrX%2BvGTv04Ih96Dp246o47aUrBlpxogR351z8XzHc%2F4j9TBGiz5lVQD82W0Lo7lErfv0EWN8dixTDoICyTV3Mn3heY36YK52LFf%2BgLypH%2FHcVlDT6vddqxI8EnfQLb29qMTg0%2FJ1RSNDQ%2FJiGJEVTydGlQv1%2F3YMEdGGp4BBJAt1xPYsFTGYoLYIL8l2LBZRhVBJDXJ8TI2%2FEmOewhilRwrsGGDHO8QxI1yvIgNa%2BQ3hiCqZCzChmXyq76KwBbLmIsN0%2BQqIbAHZEzGhmFql0dAKTKSsCGiRa622QQSI6kGO7bpgqWhBNAgrcSOabroX7fRuQ8%2Fqx6JHX2bdNH55ddxJZSrg5aNE6Lpdre06v80bnvVW5DfbnZuR6OxZKW6qhxL%2Btaoi97Altub1TWvY81jPnXJeuzJV5esw6LHW9UFa7Ep%2FayCK8Wqaz9QUKux7OFjCqIE28If2aeAiukGtxX%2B47w6VUT3iBg8Mdc1K%2F8S99GjR48ePXr06PHjkzRjycIxHhyR0%2BNwxOT0wxH64G%2F74xrzaDR%2B9%2F4SeDDzghDwZCZh3PdoJH7jhgLXZobhiH84Aph4E36TBgGpmem0S52eDuFLz8vYPwRjiMbj%2BJlycGRLr%2BKq1N964zi0HqjXBTEQockYB7UtGsexImCSYnHMVCJQl4cjwrcAWCaNxy%2F2tE4SskXb74i%2B5omGhhRgpDJwpGgGRtjhszuarsNvd5t2xmJ8XgYMHZ2WdqQuLS1tWBhEaQrGoTb9tTfGVyXAJF2NI0%2BJQF0Bjr5aACz31X%2FaC8cSfXOWDK0LwfjFt7tC4E49gmOEpmFMVW5KSyl%2Be%2F68QJX9gFPluHafwBWj32FUbynUjljg3GrgIf0UR74SgbrncAzQ08CKs7M0DyO56d2t9Ww%2FFYPfUxoOqZqN435lAeGf7fVQ0jIQx97NzNG%2BBKjbiKvyGK4%2BysE4vJYC7Y6H5lJgggbheF6JwJmXcFyvfOCVk6H7ziUAFa23ljdzeg2uFM2CG7QQxxSNA6ZrEiS3lOPYvwHm6EgyjZtx7TqCq69%2Bj3FkNTyp6iSP1gLpugvHMiUCp9bjSFEesPILRqkM7tFrlLbS8Bqu6%2FVHCP36n6EYmxv7QK9jenxKVu6J1sEYB8qAuTpxq68C18fVuOI0FePzYqBANalaDyRrHUbvmuO9gA%2FPxGE8rVFA0VHY4rsr7EBDAkUtHNiJK10ZwHy9lUD0cnmBmWq3FeNQGUaBarUV1%2FYqXP01DeNoMcYi1aoMY5MKI0neoRyMe31%2Fv5FeeS0fhQAlR2Fg8755WgirmnlWo%2FCLHRgKeFZIdY16Ixyu%2BrJy%2BDBHqW8IUF2G4xnpLVzvfYIrXtMxaopxPC%2BVY8T8ReePy1eI38xmX81%2FtedqjNVHgZfV9mUUrGok%2FvjpsXQ0svj90jSMG7zD8Yt%2BZiwwLwu%2FXG82rqzHcMV4R2AU%2FAa%2FGd7JOEImvv7e8mG0u3nJuxuzw3Fk5AP9vd7RwMQCGPQfHayoKClZ6R3FlRJV8MnJ2trG2trZXBH%2FA2RBOeTINIkQAAAAAElFTkSuQmCC)<br>\n",
        "# Mid-Circuit Measurement"
      ]
    },
    {
      "cell_type": "markdown",
      "metadata": {
        "id": "7AWDLXkWbnZ9"
      },
      "source": [
        "This notebook contains an example using mid-circuit measurement using the Quantinuum machines."
      ]
    },
    {
      "cell_type": "markdown",
      "metadata": {
        "id": "jb00dK_sbnZ-"
      },
      "source": [
        "## Repetition Code Circuit"
      ]
    },
    {
      "cell_type": "markdown",
      "metadata": {
        "id": "F0DkYnuebnZ-"
      },
      "source": [
        "The use of mid-circuit measurement is straightforward, note the use of `measure` and `reset` on the ancilla qubits. This example also utlizes conditional logic available with Quantinuum devices as well as Registers and IDs available in `pytket`. See [Classical and conditional operations](https://cqcl.github.io/pytket/manual/manual_circuit.html#classical-and-conditional-operations) and [Registers and IDs](https://cqcl.github.io/pytket/manual/manual_circuit.html#registers-and-ids) for additional examples."
      ]
    },
    {
      "cell_type": "code",
      "source": [
        "!pip install pytket --q --q --q"
      ],
      "metadata": {
        "id": "WJLeLJWZbzWb",
        "outputId": "7aa3df3f-3e38-45f8-8075-e64c4f5c45ef",
        "colab": {
          "base_uri": "https://localhost:8080/"
        }
      },
      "execution_count": 2,
      "outputs": [
        {
          "output_type": "stream",
          "name": "stdout",
          "text": [
            "\u001b[?25l     \u001b[90m━━━━━━━━━━━━━━━━━━━━━━━━━━━━━━━━━━━━━━━━\u001b[0m \u001b[32m0.0/7.2 MB\u001b[0m \u001b[31m?\u001b[0m eta \u001b[36m-:--:--\u001b[0m\r\u001b[2K     \u001b[91m━━━━━━━━━━\u001b[0m\u001b[91m╸\u001b[0m\u001b[90m━━━━━━━━━━━━━━━━━━━━━━━━━━━━━\u001b[0m \u001b[32m2.0/7.2 MB\u001b[0m \u001b[31m58.7 MB/s\u001b[0m eta \u001b[36m0:00:01\u001b[0m\r\u001b[2K     \u001b[91m━━━━━━━━━━━━━━━━━━━━━━━━━━━━━━━━━━━\u001b[0m\u001b[90m╺\u001b[0m\u001b[90m━━━━\u001b[0m \u001b[32m6.4/7.2 MB\u001b[0m \u001b[31m93.1 MB/s\u001b[0m eta \u001b[36m0:00:01\u001b[0m\r\u001b[2K     \u001b[90m━━━━━━━━━━━━━━━━━━━━━━━━━━━━━━━━━━━━━━━━\u001b[0m \u001b[32m7.2/7.2 MB\u001b[0m \u001b[31m73.6 MB/s\u001b[0m eta \u001b[36m0:00:00\u001b[0m\n",
            "\u001b[?25h\u001b[?25l     \u001b[90m━━━━━━━━━━━━━━━━━━━━━━━━━━━━━━━━━━━━━━━━\u001b[0m \u001b[32m0.0/103.5 kB\u001b[0m \u001b[31m?\u001b[0m eta \u001b[36m-:--:--\u001b[0m\r\u001b[2K     \u001b[90m━━━━━━━━━━━━━━━━━━━━━━━━━━━━━━━━━━━━━━\u001b[0m \u001b[32m103.5/103.5 kB\u001b[0m \u001b[31m12.9 MB/s\u001b[0m eta \u001b[36m0:00:00\u001b[0m\n",
            "\u001b[?25h"
          ]
        }
      ]
    },
    {
      "cell_type": "code",
      "execution_count": 3,
      "metadata": {
        "id": "bvUpBCCsbnZ-"
      },
      "outputs": [],
      "source": [
        "from pytket.circuit import Circuit, Qubit, Bit, OpType, reg_eq\n",
        "from pytket.circuit.display import render_circuit_jupyter"
      ]
    },
    {
      "cell_type": "markdown",
      "metadata": {
        "id": "TTTsyeHfbnZ_"
      },
      "source": [
        "Set up Repetition Code with mid-circuit measurement and corrections:<br>\n",
        "`2    1    0 = data: data qubits`<br>\n",
        "`*----*----*`<br>\n",
        "`  ZZ   ZZ`<br>\n",
        "`  1    0    = syndromes`<br>\n",
        "`  0    0    = ancillas`"
      ]
    },
    {
      "cell_type": "markdown",
      "metadata": {
        "id": "14unjk4GbnZ_"
      },
      "source": [
        "Set up circuit object"
      ]
    },
    {
      "cell_type": "code",
      "execution_count": 4,
      "metadata": {
        "id": "8bfUyqrebnZ_"
      },
      "outputs": [],
      "source": [
        "circuit = Circuit(name=\"Repetition Code\")"
      ]
    },
    {
      "cell_type": "markdown",
      "metadata": {
        "id": "BNqQm2IhbnZ_"
      },
      "source": [
        "Add qubit register, the data qubits"
      ]
    },
    {
      "cell_type": "code",
      "execution_count": 5,
      "metadata": {
        "id": "yN-k-0BfbnZ_"
      },
      "outputs": [],
      "source": [
        "data = circuit.add_q_register(\"data\", 3)"
      ]
    },
    {
      "cell_type": "markdown",
      "metadata": {
        "id": "F0umTCh-bnaA"
      },
      "source": [
        "Add qubit register, the ancilla qubit"
      ]
    },
    {
      "cell_type": "code",
      "execution_count": 6,
      "metadata": {
        "id": "DjeE2h4qbnaA"
      },
      "outputs": [],
      "source": [
        "ancilla = circuit.add_q_register(\"anc\", 1)"
      ]
    },
    {
      "cell_type": "markdown",
      "metadata": {
        "id": "tph4XAi5bnaA"
      },
      "source": [
        "Add classical registers for the syndromes"
      ]
    },
    {
      "cell_type": "code",
      "execution_count": 7,
      "metadata": {
        "id": "GO5CBHEwbnaA"
      },
      "outputs": [],
      "source": [
        "syndrome = circuit.add_c_register(\"syndrome\", 2)"
      ]
    },
    {
      "cell_type": "markdown",
      "metadata": {
        "id": "UZIVBf_2bnaA"
      },
      "source": [
        "Add classical registers for the output"
      ]
    },
    {
      "cell_type": "code",
      "execution_count": 8,
      "metadata": {
        "id": "W-pOjV2FbnaA"
      },
      "outputs": [],
      "source": [
        "output = circuit.add_c_register(\"output\", 3)"
      ]
    },
    {
      "cell_type": "markdown",
      "metadata": {
        "id": "UyDzc-ZBbnaA"
      },
      "source": [
        "Prepare the logical state. Qubits always start in $| 0 \\rangle$ and logical $ | 0 \\rangle == | 000 \\rangle$. So we already start in logical $| 0 \\rangle$.<br><br>\n",
        "Syndrome Extraction"
      ]
    },
    {
      "cell_type": "code",
      "execution_count": 9,
      "metadata": {
        "id": "5TCzxjSDbnaB",
        "outputId": "4444a794-5444-4da0-9360-3a16d31b62fa",
        "colab": {
          "base_uri": "https://localhost:8080/"
        }
      },
      "outputs": [
        {
          "output_type": "execute_result",
          "data": {
            "text/plain": [
              "[Reset anc[0]; CX data[0], anc[0]; CX data[1], anc[0]; Measure anc[0] --> syndrome[0]; ]"
            ]
          },
          "metadata": {},
          "execution_count": 9
        }
      ],
      "source": [
        "circuit.add_gate(OpType.Reset, ancilla)\n",
        "circuit.CX(data[0], ancilla[0])\n",
        "circuit.CX(data[1], ancilla[0])\n",
        "circuit.Measure(ancilla[0], syndrome[0])"
      ]
    },
    {
      "cell_type": "markdown",
      "metadata": {
        "id": "-W7pAchebnaB"
      },
      "source": [
        "Syndrome Extraction"
      ]
    },
    {
      "cell_type": "code",
      "execution_count": 11,
      "metadata": {
        "id": "y_ZNLYaqbnaB",
        "outputId": "130d9970-75a2-47fa-bbb7-c0876bb711d1",
        "colab": {
          "base_uri": "https://localhost:8080/"
        }
      },
      "outputs": [
        {
          "output_type": "execute_result",
          "data": {
            "text/plain": [
              "[Reset anc[0]; CX data[0], anc[0]; CX data[1], anc[0]; Measure anc[0] --> syndrome[0]; Reset anc[0]; CX data[1], anc[0]; CX data[2], anc[0]; Measure anc[0] --> syndrome[1]; ]"
            ]
          },
          "metadata": {},
          "execution_count": 11
        }
      ],
      "source": [
        "circuit.add_gate(OpType.Reset, ancilla)\n",
        "circuit.CX(data[1], ancilla[0])\n",
        "circuit.CX(data[2], ancilla[0])\n",
        "circuit.Measure(ancilla[0], syndrome[1])"
      ]
    },
    {
      "cell_type": "markdown",
      "metadata": {
        "id": "aiKQsacDbnaB"
      },
      "source": [
        "Correction: if(syndromes==1) -> 01 -> check 0 bad -> X on qubit 0"
      ]
    },
    {
      "cell_type": "code",
      "execution_count": 12,
      "metadata": {
        "id": "n-56XpkobnaB",
        "outputId": "b69b1b1c-8174-45bd-ee3f-376cfbda3057",
        "colab": {
          "base_uri": "https://localhost:8080/"
        }
      },
      "outputs": [
        {
          "output_type": "execute_result",
          "data": {
            "text/plain": [
              "[Reset anc[0]; CX data[0], anc[0]; CX data[1], anc[0]; Measure anc[0] --> syndrome[0]; Reset anc[0]; CX data[1], anc[0]; CX data[2], anc[0]; Measure anc[0] --> syndrome[1]; RangePredicate([1,1]) syndrome[0], syndrome[1], tk_SCRATCH_BIT[0]; IF ([tk_SCRATCH_BIT[0]] == 1) THEN X data[0]; ]"
            ]
          },
          "metadata": {},
          "execution_count": 12
        }
      ],
      "source": [
        "circuit.X(data[0], condition=reg_eq(syndrome, 1))"
      ]
    },
    {
      "cell_type": "markdown",
      "metadata": {
        "id": "0qNU_BB-bnaB"
      },
      "source": [
        "if(syndromes==2) -> 10 -> check 1 bad -> X on qubit 2"
      ]
    },
    {
      "cell_type": "code",
      "execution_count": 13,
      "metadata": {
        "id": "Pa6usUBYbnaB",
        "outputId": "3e005b65-beef-416f-b8f2-b0d8c7efd067",
        "colab": {
          "base_uri": "https://localhost:8080/"
        }
      },
      "outputs": [
        {
          "output_type": "execute_result",
          "data": {
            "text/plain": [
              "[Reset anc[0]; CX data[0], anc[0]; CX data[1], anc[0]; Measure anc[0] --> syndrome[0]; Reset anc[0]; CX data[1], anc[0]; CX data[2], anc[0]; Measure anc[0] --> syndrome[1]; RangePredicate([1,1]) syndrome[0], syndrome[1], tk_SCRATCH_BIT[0]; RangePredicate([2,2]) syndrome[0], syndrome[1], tk_SCRATCH_BIT[1]; IF ([tk_SCRATCH_BIT[0]] == 1) THEN X data[0]; IF ([tk_SCRATCH_BIT[1]] == 1) THEN X data[2]; ]"
            ]
          },
          "metadata": {},
          "execution_count": 13
        }
      ],
      "source": [
        "circuit.X(data[2], condition=reg_eq(syndrome, 2))"
      ]
    },
    {
      "cell_type": "markdown",
      "metadata": {
        "id": "F8rw6zTGbnaB"
      },
      "source": [
        "if(syndromes==3) -> 11 -> check 1 and 2 bad -> X on qubit 1"
      ]
    },
    {
      "cell_type": "code",
      "execution_count": 14,
      "metadata": {
        "id": "cfPVIIWgbnaC",
        "outputId": "192ebaab-ed61-4b8c-cb21-c85f89a1775a",
        "colab": {
          "base_uri": "https://localhost:8080/"
        }
      },
      "outputs": [
        {
          "output_type": "execute_result",
          "data": {
            "text/plain": [
              "[Reset anc[0]; CX data[0], anc[0]; CX data[1], anc[0]; Measure anc[0] --> syndrome[0]; Reset anc[0]; CX data[1], anc[0]; CX data[2], anc[0]; Measure anc[0] --> syndrome[1]; RangePredicate([1,1]) syndrome[0], syndrome[1], tk_SCRATCH_BIT[0]; RangePredicate([2,2]) syndrome[0], syndrome[1], tk_SCRATCH_BIT[1]; RangePredicate([3,3]) syndrome[0], syndrome[1], tk_SCRATCH_BIT[2]; IF ([tk_SCRATCH_BIT[0]] == 1) THEN X data[0]; IF ([tk_SCRATCH_BIT[2]] == 1) THEN X data[1]; IF ([tk_SCRATCH_BIT[1]] == 1) THEN X data[2]; ]"
            ]
          },
          "metadata": {},
          "execution_count": 14
        }
      ],
      "source": [
        "circuit.X(data[1], condition=reg_eq(syndrome, 3))"
      ]
    },
    {
      "cell_type": "markdown",
      "metadata": {
        "id": "lunv-Z0FbnaC"
      },
      "source": [
        "Measure out data qubits"
      ]
    },
    {
      "cell_type": "code",
      "execution_count": 15,
      "metadata": {
        "id": "q5-gTLN8bnaC",
        "outputId": "f9aba8a9-b28e-475b-89e7-8a72acdd7795",
        "colab": {
          "base_uri": "https://localhost:8080/"
        }
      },
      "outputs": [
        {
          "output_type": "execute_result",
          "data": {
            "text/plain": [
              "[Reset anc[0]; CX data[0], anc[0]; CX data[1], anc[0]; Measure anc[0] --> syndrome[0]; Reset anc[0]; CX data[1], anc[0]; CX data[2], anc[0]; Measure anc[0] --> syndrome[1]; RangePredicate([1,1]) syndrome[0], syndrome[1], tk_SCRATCH_BIT[0]; RangePredicate([2,2]) syndrome[0], syndrome[1], tk_SCRATCH_BIT[1]; RangePredicate([3,3]) syndrome[0], syndrome[1], tk_SCRATCH_BIT[2]; IF ([tk_SCRATCH_BIT[0]] == 1) THEN X data[0]; IF ([tk_SCRATCH_BIT[2]] == 1) THEN X data[1]; IF ([tk_SCRATCH_BIT[1]] == 1) THEN X data[2]; Measure data[0] --> output[0]; Measure data[1] --> output[1]; Measure data[2] --> output[2]; ]"
            ]
          },
          "metadata": {},
          "execution_count": 15
        }
      ],
      "source": [
        "circuit.Measure(data[0], output[0])\n",
        "circuit.Measure(data[1], output[1])\n",
        "circuit.Measure(data[2], output[2])"
      ]
    },
    {
      "cell_type": "code",
      "execution_count": 16,
      "metadata": {
        "id": "Xzqa4_XCbnaC",
        "outputId": "e47554ad-dd6e-4eb3-e9e4-f2be9bc97194",
        "colab": {
          "base_uri": "https://localhost:8080/",
          "height": 417
        }
      },
      "outputs": [
        {
          "output_type": "display_data",
          "data": {
            "text/plain": [
              "<IPython.core.display.HTML object>"
            ],
            "text/html": [
              "\n",
              "\n",
              "\n",
              "\n",
              "\n",
              "\n",
              "<div style=\"resize: vertical; overflow: auto; height: 400px; display: block\">\n",
              "    <iframe srcdoc=\"\n",
              "&lt;!DOCTYPE html&gt;\n",
              "&lt;html lang=&#34;en&#34;&gt;\n",
              "&lt;head&gt;\n",
              "    &lt;meta charset=&#34;UTF-8&#34;&gt;\n",
              "    &lt;!-- Download Vue 3--&gt;\n",
              "&lt;script type=&#34;application/javascript&#34; src=&#34;https://cdn.jsdelivr.net/npm/vue@3&#34;&gt;&lt;/script&gt;\n",
              "&lt;!-- Download Circuit Renderer with styles --&gt;\n",
              "&lt;script type=&#34;application/javascript&#34; src=&#34;https://unpkg.com/pytket-circuit-renderer@0.6/dist/pytket-circuit-renderer.umd.js&#34;&gt;&lt;/script&gt;\n",
              "&lt;link rel=&#34;stylesheet&#34; href=&#34;https://unpkg.com/pytket-circuit-renderer@0.6/dist/pytket-circuit-renderer.css&#34;&gt;\n",
              "&lt;/head&gt;\n",
              "&lt;body&gt;\n",
              "\n",
              "\n",
              "\n",
              "    &lt;div id=&#34;circuit-display-vue-container-49811c56-9319-457a-ae7f-c0ee2406a15f&#34; class=&#34;pytket-circuit-display-container&#34;&gt;\n",
              "        &lt;div style=&#34;display: none&#34;&gt;\n",
              "            &lt;div id=&#34;circuit-json-to-display&#34;&gt;{&#34;bits&#34;: [[&#34;output&#34;, [0]], [&#34;output&#34;, [1]], [&#34;output&#34;, [2]], [&#34;syndrome&#34;, [0]], [&#34;syndrome&#34;, [1]], [&#34;tk_SCRATCH_BIT&#34;, [0]], [&#34;tk_SCRATCH_BIT&#34;, [1]], [&#34;tk_SCRATCH_BIT&#34;, [2]]], &#34;commands&#34;: [{&#34;args&#34;: [[&#34;anc&#34;, [0]]], &#34;op&#34;: {&#34;type&#34;: &#34;Reset&#34;}}, {&#34;args&#34;: [[&#34;data&#34;, [0]], [&#34;anc&#34;, [0]]], &#34;op&#34;: {&#34;type&#34;: &#34;CX&#34;}}, {&#34;args&#34;: [[&#34;data&#34;, [1]], [&#34;anc&#34;, [0]]], &#34;op&#34;: {&#34;type&#34;: &#34;CX&#34;}}, {&#34;args&#34;: [[&#34;anc&#34;, [0]], [&#34;syndrome&#34;, [0]]], &#34;op&#34;: {&#34;type&#34;: &#34;Measure&#34;}}, {&#34;args&#34;: [[&#34;anc&#34;, [0]]], &#34;op&#34;: {&#34;type&#34;: &#34;Reset&#34;}}, {&#34;args&#34;: [[&#34;data&#34;, [1]], [&#34;anc&#34;, [0]]], &#34;op&#34;: {&#34;type&#34;: &#34;CX&#34;}}, {&#34;args&#34;: [[&#34;data&#34;, [2]], [&#34;anc&#34;, [0]]], &#34;op&#34;: {&#34;type&#34;: &#34;CX&#34;}}, {&#34;args&#34;: [[&#34;anc&#34;, [0]], [&#34;syndrome&#34;, [1]]], &#34;op&#34;: {&#34;type&#34;: &#34;Measure&#34;}}, {&#34;args&#34;: [[&#34;syndrome&#34;, [0]], [&#34;syndrome&#34;, [1]], [&#34;tk_SCRATCH_BIT&#34;, [0]]], &#34;op&#34;: {&#34;classical&#34;: {&#34;lower&#34;: 1, &#34;n_i&#34;: 2, &#34;upper&#34;: 1}, &#34;type&#34;: &#34;RangePredicate&#34;}}, {&#34;args&#34;: [[&#34;syndrome&#34;, [0]], [&#34;syndrome&#34;, [1]], [&#34;tk_SCRATCH_BIT&#34;, [1]]], &#34;op&#34;: {&#34;classical&#34;: {&#34;lower&#34;: 2, &#34;n_i&#34;: 2, &#34;upper&#34;: 2}, &#34;type&#34;: &#34;RangePredicate&#34;}}, {&#34;args&#34;: [[&#34;syndrome&#34;, [0]], [&#34;syndrome&#34;, [1]], [&#34;tk_SCRATCH_BIT&#34;, [2]]], &#34;op&#34;: {&#34;classical&#34;: {&#34;lower&#34;: 3, &#34;n_i&#34;: 2, &#34;upper&#34;: 3}, &#34;type&#34;: &#34;RangePredicate&#34;}}, {&#34;args&#34;: [[&#34;tk_SCRATCH_BIT&#34;, [0]], [&#34;data&#34;, [0]]], &#34;op&#34;: {&#34;conditional&#34;: {&#34;op&#34;: {&#34;type&#34;: &#34;X&#34;}, &#34;value&#34;: 1, &#34;width&#34;: 1}, &#34;type&#34;: &#34;Conditional&#34;}}, {&#34;args&#34;: [[&#34;tk_SCRATCH_BIT&#34;, [2]], [&#34;data&#34;, [1]]], &#34;op&#34;: {&#34;conditional&#34;: {&#34;op&#34;: {&#34;type&#34;: &#34;X&#34;}, &#34;value&#34;: 1, &#34;width&#34;: 1}, &#34;type&#34;: &#34;Conditional&#34;}}, {&#34;args&#34;: [[&#34;tk_SCRATCH_BIT&#34;, [1]], [&#34;data&#34;, [2]]], &#34;op&#34;: {&#34;conditional&#34;: {&#34;op&#34;: {&#34;type&#34;: &#34;X&#34;}, &#34;value&#34;: 1, &#34;width&#34;: 1}, &#34;type&#34;: &#34;Conditional&#34;}}, {&#34;args&#34;: [[&#34;data&#34;, [0]], [&#34;output&#34;, [0]]], &#34;op&#34;: {&#34;type&#34;: &#34;Measure&#34;}}, {&#34;args&#34;: [[&#34;data&#34;, [1]], [&#34;output&#34;, [1]]], &#34;op&#34;: {&#34;type&#34;: &#34;Measure&#34;}}, {&#34;args&#34;: [[&#34;data&#34;, [2]], [&#34;output&#34;, [2]]], &#34;op&#34;: {&#34;type&#34;: &#34;Measure&#34;}}], &#34;created_qubits&#34;: [], &#34;discarded_qubits&#34;: [], &#34;implicit_permutation&#34;: [[[&#34;anc&#34;, [0]], [&#34;anc&#34;, [0]]], [[&#34;data&#34;, [0]], [&#34;data&#34;, [0]]], [[&#34;data&#34;, [1]], [&#34;data&#34;, [1]]], [[&#34;data&#34;, [2]], [&#34;data&#34;, [2]]]], &#34;name&#34;: &#34;Repetition Code&#34;, &#34;phase&#34;: &#34;0.0&#34;, &#34;qubits&#34;: [[&#34;anc&#34;, [0]], [&#34;data&#34;, [0]], [&#34;data&#34;, [1]], [&#34;data&#34;, [2]]]}&lt;/div&gt;\n",
              "        &lt;/div&gt;\n",
              "        &lt;circuit-display-container\n",
              "                :circuit-element-str=&#34;&#39;#circuit-json-to-display&#39;&#34;\n",
              "                :init-render-options=&#34;initRenderOptions&#34;\n",
              "        &gt;&lt;/circuit-display-container&gt;\n",
              "    &lt;/div&gt;\n",
              "    &lt;script type=&#34;application/javascript&#34;&gt;\n",
              "      const circuitRendererUid = &#34;49811c56-9319-457a-ae7f-c0ee2406a15f&#34;;\n",
              "      const displayOptions = JSON.parse(&#39;{}&#39;);\n",
              "\n",
              "      // Script to initialise the circuit renderer app\n",
              "\n",
              "const { createApp } = Vue;\n",
              "const circuitDisplayContainer = window[&#34;pytket-circuit-renderer&#34;].default;\n",
              "// Init variables to be shared between circuit display instances\n",
              "if (typeof window.pytketCircuitDisplays === &#34;undefined&#34;) {\n",
              "    window.pytketCircuitDisplays = {};\n",
              "}\n",
              "// Create the root Vue component\n",
              "const app = createApp({\n",
              "    delimiters: [&#39;[[#&#39;, &#39;#]]&#39;],\n",
              "    components: { circuitDisplayContainer },\n",
              "    data () {\n",
              "      return {\n",
              "        initRenderOptions: displayOptions,\n",
              "      }\n",
              "    }\n",
              "})\n",
              "app.config.unwrapInjectedRef = true;\n",
              "app.mount(&#34;#circuit-display-vue-container-&#34;+circuitRendererUid);\n",
              "window.pytketCircuitDisplays[circuitRendererUid] = app;\n",
              "    &lt;/script&gt;\n",
              "\n",
              "\n",
              "\n",
              "&lt;/body&gt;\n",
              "&lt;/html&gt;\n",
              "\"\n",
              "            width=\"100%\" height=\"100%\"\n",
              "            style=\"border: none; outline: none; overflow: auto\"></iframe>\n",
              "</div>\n",
              "\n"
            ]
          },
          "metadata": {}
        }
      ],
      "source": [
        "render_circuit_jupyter(circuit)"
      ]
    },
    {
      "cell_type": "markdown",
      "metadata": {
        "id": "URPdzRGbbnaC"
      },
      "source": [
        "## Select Device"
      ]
    },
    {
      "cell_type": "markdown",
      "metadata": {
        "id": "kG2WkSUmbnaC"
      },
      "source": [
        "Login to the Quantinuum API using your credentials and check the device status."
      ]
    },
    {
      "cell_type": "code",
      "execution_count": null,
      "metadata": {
        "id": "BK24pTDlbnaC"
      },
      "outputs": [],
      "source": [
        "from pytket.extensions.quantinuum import QuantinuumBackend"
      ]
    },
    {
      "cell_type": "code",
      "execution_count": null,
      "metadata": {
        "id": "DrIXn6R1bnaC"
      },
      "outputs": [],
      "source": [
        "machine = \"H1-2E\"\n",
        "backend = QuantinuumBackend(device_name=machine)\n",
        "backend.login()"
      ]
    },
    {
      "cell_type": "code",
      "execution_count": null,
      "metadata": {
        "id": "qYG0JYOtbnaC"
      },
      "outputs": [],
      "source": [
        "print(machine, \"status:\", QuantinuumBackend.device_state(device_name=machine))"
      ]
    },
    {
      "cell_type": "markdown",
      "metadata": {
        "id": "pLD9nwWMbnaD"
      },
      "source": [
        "### Circuit Compilation"
      ]
    },
    {
      "cell_type": "markdown",
      "metadata": {
        "id": "EowR5aRzbnaD"
      },
      "source": [
        "`pytket` includes many features for optimizing circuits. This includes reducing the number of gates where possible and resynthesizing circuits for a quantum computer's native gate set. See the `pytket` [User Manual](https://cqcl.github.io/pytket/manual/index.html) for more information on all the options that are available.<br><br>\n",
        "Here the circuit is compiled with `get_compiled_circuit`, which includes optimizing the gates and resynthesizing the circuit to Quantinuum's native gate set. The `optimisation_level` sets the level of optimization to perform during compilation, check pytket documentation for more details."
      ]
    },
    {
      "cell_type": "code",
      "execution_count": null,
      "metadata": {
        "id": "viBaTZWxbnaD"
      },
      "outputs": [],
      "source": [
        "compiled_circuit = backend.get_compiled_circuit(circuit, optimisation_level=1)\n",
        "render_circuit_jupyter(compiled_circuit)"
      ]
    },
    {
      "cell_type": "markdown",
      "metadata": {
        "id": "8d_NiaYgbnaD"
      },
      "source": [
        "## Submit and Run the Circuit"
      ]
    },
    {
      "cell_type": "code",
      "execution_count": null,
      "metadata": {
        "id": "552JwSU9bnaD"
      },
      "outputs": [],
      "source": [
        "n_shots = 100\n",
        "handle = backend.process_circuit(compiled_circuit, n_shots=n_shots)\n",
        "print(handle)"
      ]
    },
    {
      "cell_type": "code",
      "execution_count": null,
      "metadata": {
        "id": "CYv7C3HRbnaE"
      },
      "outputs": [],
      "source": [
        "status = backend.circuit_status(handle)\n",
        "print(status)"
      ]
    },
    {
      "cell_type": "code",
      "execution_count": null,
      "metadata": {
        "id": "ggauNSMKbnaE"
      },
      "outputs": [],
      "source": [
        "import json"
      ]
    },
    {
      "cell_type": "code",
      "execution_count": null,
      "metadata": {
        "id": "YBJ2zezObnaE"
      },
      "outputs": [],
      "source": [
        "result = backend.get_result(handle)\n",
        "with open(\"pytket_mcmr_example.json\", \"w\") as file:\n",
        "    json.dump(result.to_dict(), file)"
      ]
    },
    {
      "cell_type": "markdown",
      "metadata": {
        "id": "6mCKbrtObnaE"
      },
      "source": [
        "## Analyze Results"
      ]
    },
    {
      "cell_type": "markdown",
      "metadata": {
        "id": "JRf6vATwbnaE"
      },
      "source": [
        "We will now take the raw results and apply a majority vote to determine how many times we got 0 vs 1.<br>\n",
        "First, define a majority vote function."
      ]
    },
    {
      "cell_type": "code",
      "execution_count": null,
      "metadata": {
        "id": "f8JsgnkwbnaF"
      },
      "outputs": [],
      "source": [
        "def majority(result):\n",
        "    \"\"\"Returns whether the output should be considered a 0 or 1.\"\"\"\n",
        "    if result.count(0) > result.count(1):\n",
        "        return 0\n",
        "    elif result.count(0) < result.count(1):\n",
        "        return 1\n",
        "    else:\n",
        "        raise Exception(\"count(0) should not equal count(1)\")"
      ]
    },
    {
      "cell_type": "markdown",
      "metadata": {
        "id": "FH2dLBk4bnaF"
      },
      "source": [
        "Now process the output"
      ]
    },
    {
      "cell_type": "code",
      "execution_count": null,
      "metadata": {
        "id": "KEDSsRt4bnaF"
      },
      "outputs": [],
      "source": [
        "result_output_cnts = result.get_counts([output[i] for i in range(output.size)])\n",
        "result_output_cnts"
      ]
    },
    {
      "cell_type": "code",
      "execution_count": null,
      "metadata": {
        "id": "U5SOMbqibnaF"
      },
      "outputs": [],
      "source": [
        "zeros = 0  # Counts the shots with majority zeros\n",
        "ones = 0  # Counts the shots with majority ones\n",
        "for out in result_output_cnts:\n",
        "    m = majority(out)\n",
        "    if m == 0:\n",
        "        zeros += result_output_cnts[out]\n",
        "    else:\n",
        "        ones += result_output_cnts[out]"
      ]
    },
    {
      "cell_type": "markdown",
      "metadata": {
        "id": "wBbUgoW_bnaF"
      },
      "source": [
        "A logical zero was initialized, so our error rate should be number of ones / total number of shots: `ones/shots`"
      ]
    },
    {
      "cell_type": "code",
      "execution_count": null,
      "metadata": {
        "id": "LxdxhlMhbnaF"
      },
      "outputs": [],
      "source": [
        "p = ones / n_shots\n",
        "print(f\"The error-rate is: p = {p}\")"
      ]
    },
    {
      "cell_type": "markdown",
      "metadata": {
        "id": "Zw68AC5PbnaF"
      },
      "source": [
        "<div align=\"center\"> &copy; 2023 by Quantinuum. All Rights Reserved. </div>"
      ]
    }
  ],
  "metadata": {
    "kernelspec": {
      "display_name": "Python 3",
      "language": "python",
      "name": "python3"
    },
    "language_info": {
      "codemirror_mode": {
        "name": "ipython",
        "version": 3
      },
      "file_extension": ".py",
      "mimetype": "text/x-python",
      "name": "python",
      "nbconvert_exporter": "python",
      "pygments_lexer": "ipython3",
      "version": "3.6.4"
    },
    "colab": {
      "provenance": []
    }
  },
  "nbformat": 4,
  "nbformat_minor": 0
}